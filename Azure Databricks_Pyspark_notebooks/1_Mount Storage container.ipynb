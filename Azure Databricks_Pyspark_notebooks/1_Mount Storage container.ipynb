{
 "cells": [
  {
   "cell_type": "markdown",
   "metadata": {
    "application/vnd.databricks.v1+cell": {
     "cellMetadata": {},
     "inputWidgets": {},
     "nuid": "cc53c531-c731-40c5-a343-7cc1d28beab0",
     "showTitle": false,
     "title": ""
    }
   },
   "source": [
    "# Three steps to connect Azure Databricks with an Azure storage container:\n",
    "\n",
    "1. Create an Azure Databricks workspace, compute cluster, and notebook. \n",
    "2. Allow Azure Databricks to access your Storage container in Azure. \n",
    "\n",
    "3. Mount the Storage container to the Azure Databricks directory for seamless access.\n",
    "This code mounts the storage container specified by storageAccountName and containerName to the Azure Databricks directory. It uses Azure AD application credentials (applicationId, directoryID, secretValue) for authentication. The mount point is defined as /mnt/deBDProject, and the configuration parameters are set to enable OAuth-based authentication.\n"
   ]
  },
  {
   "cell_type": "code",
   "execution_count": null,
   "metadata": {
    "application/vnd.databricks.v1+cell": {
     "cellMetadata": {
      "byteLimit": 2048000,
      "rowLimit": 10000
     },
     "inputWidgets": {},
     "nuid": "96a8f4c4-2453-4a8a-afa0-cd486549af84",
     "showTitle": false,
     "title": ""
    }
   },
   "outputs": [
    {
     "data": {
      "text/plain": [
       "[MountInfo(mountPoint='/databricks-datasets', source='databricks-datasets', encryptionType=''),\n",
       " MountInfo(mountPoint='/Volumes', source='UnityCatalogVolumes', encryptionType=''),\n",
       " MountInfo(mountPoint='/databricks/mlflow-tracking', source='databricks/mlflow-tracking', encryptionType=''),\n",
       " MountInfo(mountPoint='/databricks-results', source='databricks-results', encryptionType=''),\n",
       " MountInfo(mountPoint='/databricks/mlflow-registry', source='databricks/mlflow-registry', encryptionType=''),\n",
       " MountInfo(mountPoint='/Volume', source='DbfsReserved', encryptionType=''),\n",
       " MountInfo(mountPoint='/volumes', source='DbfsReserved', encryptionType=''),\n",
       " MountInfo(mountPoint='/', source='DatabricksRoot', encryptionType=''),\n",
       " MountInfo(mountPoint='/volume', source='DbfsReserved', encryptionType='')]"
      ]
     },
     "execution_count": 3,
     "metadata": {},
     "output_type": "execute_result"
    }
   ],
   "source": [
    "dbutils.fs.mounts()"
   ]
  },
  {
   "cell_type": "code",
   "execution_count": null,
   "metadata": {
    "application/vnd.databricks.v1+cell": {
     "cellMetadata": {
      "byteLimit": 2048000,
      "rowLimit": 10000
     },
     "inputWidgets": {},
     "nuid": "1a4ba12b-9815-48f7-88f6-54520e80d42d",
     "showTitle": false,
     "title": ""
    }
   },
   "outputs": [
    {
     "data": {
      "text/plain": [
       "True"
      ]
     },
     "execution_count": 9,
     "metadata": {},
     "output_type": "execute_result"
    }
   ],
   "source": [
    "# 3. Mounting Storage Container to Azure Databricks Directory\n",
    "\n",
    "# Define storage container and account details\n",
    "storageAccountName = '*********'\n",
    "containerName = '******'\n",
    "\n",
    "# Define Azure AD application details\n",
    "applicationId = '**********************'\n",
    "directoryID = '**********************'\n",
    "secretValue = '**********************'\n",
    "\n",
    "# Define endpoint for authentication\n",
    "endpoint = 'https://login.microsoftonline.com/' + directoryID + '/oauth2/token'\n",
    "\n",
    "# Define source and mount point paths\n",
    "source = 'abfss://' + containerName + '@' + storageAccountName + '.dfs.core.windows.net/'\n",
    "mountPoint = \"/mnt/deBDProject\"\n",
    "\n",
    "# Define configuration parameters for mounting\n",
    "configs = {\n",
    "    \"fs.azure.account.auth.type\": \"OAuth\",\n",
    "    \"fs.azure.account.oauth.provider.type\": \"org.apache.hadoop.fs.azurebfs.oauth2.ClientCredsTokenProvider\",\n",
    "    \"fs.azure.account.oauth2.client.id\": applicationId,\n",
    "    \"fs.azure.account.oauth2.client.secret\": secretValue,\n",
    "    \"fs.azure.account.oauth2.client.endpoint\": endpoint\n",
    "}\n",
    "\n",
    "# Mount the storage container to the specified mount point\n",
    "dbutils.fs.mount(source=source, mount_point=mountPoint, extra_configs=configs)"
   ]
  }
 ],
 "metadata": {
  "application/vnd.databricks.v1+notebook": {
   "dashboards": [],
   "language": "python",
   "notebookMetadata": {
    "pythonIndentUnit": 4
   },
   "notebookName": "Mount Storage container_G7",
   "widgets": {}
  },
  "language_info": {
   "name": "python"
  }
 },
 "nbformat": 4,
 "nbformat_minor": 0
}
